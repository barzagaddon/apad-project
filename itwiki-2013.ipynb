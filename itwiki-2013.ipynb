{
 "cells": [
  {
   "metadata": {},
   "cell_type": "markdown",
   "source": [
    "# Analisi del grafo di Wikipedia Italia 2013\n",
    "## Progetto finale di Algoritmi e Programmazione per Analisi Dati - A.A. 2023/2024\n",
    "## Autore: Cristian Bargiacchi"
   ],
   "id": "4310a9b74f36198e"
  },
  {
   "metadata": {},
   "cell_type": "markdown",
   "source": "Il progetto consiste nel rispondere a delle domande riguardanti metodi di analisi di grafi viste a lezione, ed è articolato in 3 punti principali. Di seguito importiamo le librerie che serviranno:",
   "id": "695395392c9c69cc"
  },
  {
   "cell_type": "code",
   "id": "initial_id",
   "metadata": {
    "collapsed": true,
    "ExecuteTime": {
     "end_time": "2024-06-27T08:31:47.594501Z",
     "start_time": "2024-06-27T08:31:44.499636Z"
    }
   },
   "source": [
    "import pandas as pd\n",
    "import numpy as np\n",
    "import networkx as nx\n",
    "import matplotlib.pyplot as plt"
   ],
   "outputs": [],
   "execution_count": 1
  },
  {
   "metadata": {},
   "cell_type": "markdown",
   "source": "Abbiamo due file: il primo, denominato \"itwiki-2013.arcs\" contiene una riga per ogni arco del nostro grafo. Il secondo, denominato \"itwiki-2013.ids\" contiene gli ID delle pagine di Wikipedia. La numerazione dei nodi segue gli indici delle righe (alla i-esima riga, numero i). Costruiamo un dizionario che associa i nomi delle pagine al corrispondente ID, ovvero l'indice di riga. Già che ci siamo costruiamo anche il dizionario inverso, che associa ad ogni ID la denominazione della pagina corrispondente (ci servirà in seguito).",
   "id": "4c023f8f573c054c"
  },
  {
   "metadata": {
    "ExecuteTime": {
     "end_time": "2024-06-27T09:51:30.055018Z",
     "start_time": "2024-06-27T09:51:28.290337Z"
    }
   },
   "cell_type": "code",
   "source": [
    "path_ids = \"itwiki-2013.ids\"\n",
    "page_to_id = {}\n",
    "id_to_page = {}\n",
    "with open(path_ids, 'r', encoding='utf-8') as reader_1:\n",
    "    for i, line in enumerate(reader_1):\n",
    "        line = line.strip()\n",
    "        page_to_id[line] = i\n",
    "        id_to_page[i]=line\n",
    "\n",
    "print(id_to_page.get(261576))\n",
    "print(page_to_id.get(\"Città dell'India\"))"
   ],
   "id": "f6b872901ab10fef",
   "outputs": [
    {
     "name": "stdout",
     "output_type": "stream",
     "text": [
      "Città dell'India\n",
      "261576\n"
     ]
    }
   ],
   "execution_count": 48
  },
  {
   "metadata": {},
   "cell_type": "markdown",
   "source": "A questo punto procediamo alla costruzione del grafo direzionato su Network X. Per farlo ci conviene prima trasformare il file csv degli archi in un oggetto \"Data Frame\" della libreria Pandas. Costruiamo anche una versione ridotta di 10.000 archi per usarlo come prova.",
   "id": "7c399c8907aedbb3"
  },
  {
   "metadata": {
    "ExecuteTime": {
     "end_time": "2024-06-27T09:21:07.692699Z",
     "start_time": "2024-06-27T09:21:01.826660Z"
    }
   },
   "cell_type": "code",
   "source": [
    "path_arcs = \"itwiki-2013.arcs\"\n",
    "arcs_df_prova = pd.read_csv(path_arcs,sep=\" \", header=None, names=['v1','v2'])\n",
    "# arcs_df_prova = arcs_df[:50000] # per la prova"
   ],
   "id": "9a53819d86ba739e",
   "outputs": [],
   "execution_count": 40
  },
  {
   "metadata": {},
   "cell_type": "markdown",
   "source": "A questo punto procediamo alla costruzione del grafo direzionato.",
   "id": "73ad85a969c58e7c"
  },
  {
   "metadata": {
    "ExecuteTime": {
     "end_time": "2024-06-27T09:35:00.583003Z",
     "start_time": "2024-06-27T09:21:09.135853Z"
    }
   },
   "cell_type": "code",
   "source": [
    "def create_graph(df:pd.DataFrame) -> nx.DiGraph:\n",
    "    G = nx.DiGraph()\n",
    "    \n",
    "    for index, line in df.iterrows():\n",
    "        v1 = int(line['v1'])\n",
    "        v2 = int(line['v2'])\n",
    "        G.add_edge(v1,v2)\n",
    "        \n",
    "    return G\n",
    "g_prova = create_graph(arcs_df_prova)\n",
    "print(g_prova)"
   ],
   "id": "3b76d5dabb0be505",
   "outputs": [
    {
     "name": "stdout",
     "output_type": "stream",
     "text": [
      "DiGraph with 1016179 nodes and 25619926 edges\n"
     ]
    }
   ],
   "execution_count": 41
  },
  {
   "metadata": {},
   "cell_type": "markdown",
   "source": [
    "# Domanda 1: Calcola la distribuzione \"out-degree\" del grafo\n",
    "\n",
    "Per rispondere alla prima domanda definiremo una funzione \"outDegree_distribution\". Essa costruirà un dizionario che associa ad ogni nodo la lista dei suoi vicini uscenti: il grado in uscita del nodo sarà la lunghezza di questa lista.\n",
    "A questo punto sarebbe sufficiente associare a ogni grado le frequenze di nodi aventi quel valore. Tuttavia oltre alla frequenza associamo al grado anche la lista dei nodi con quel valore di out degree, per poterli utilizzare in seguito. "
   ],
   "id": "d4c663740d399b16"
  },
  {
   "metadata": {
    "ExecuteTime": {
     "end_time": "2024-06-27T09:35:54.208783Z",
     "start_time": "2024-06-27T09:35:00.585009Z"
    }
   },
   "cell_type": "code",
   "source": [
    "def outDegree_distribution (g:nx.DiGraph) -> dict:\n",
    "    neighbors_dict ={node: list(g.successors(node)) for node in g.nodes()} # da nodo a lista vicini\n",
    "    distribution_dict = {} # da grado a array di 2 elementi: in posizione 0, nodi con quel grado; in posizione 1, conteggio nodi con quel grado\n",
    "    for node in neighbors_dict.keys():\n",
    "        degree_node = len(neighbors_dict[node])\n",
    "        if degree_node in distribution_dict:\n",
    "            distribution_dict[degree_node][0].append(node)\n",
    "            distribution_dict[degree_node][1]+=1\n",
    "        else:\n",
    "            distribution_dict[degree_node] = [[node],1]\n",
    "    return distribution_dict\n",
    "g_outDegree = outDegree_distribution(g_prova)"
   ],
   "id": "ff3b0f841b050d86",
   "outputs": [],
   "execution_count": 42
  },
  {
   "metadata": {},
   "cell_type": "markdown",
   "source": "Plottiamo la distribuzione delle frequenze degli out-degree:",
   "id": "105079f0bc70d4f6"
  },
  {
   "metadata": {
    "ExecuteTime": {
     "end_time": "2024-06-27T09:49:40.278263Z",
     "start_time": "2024-06-27T09:49:40.278263Z"
    }
   },
   "cell_type": "code",
   "source": [
    "degrees = list(g_outDegree.keys())\n",
    "frequencies = [g_outDegree[degree][1] for degree in degrees]\n",
    "\n",
    "plt.bar(degrees, frequencies)\n",
    "plt.xlabel('Out-degree')\n",
    "plt.ylabel('Frequency')\n",
    "plt.xlim([0,200])\n",
    "plt.ylim([0,max(frequencies)])\n",
    "plt.title('Out-degree Distribution')\n",
    "plt.show()"
   ],
   "id": "fe75099a385accdb",
   "outputs": [],
   "execution_count": null
  },
  {
   "metadata": {},
   "cell_type": "markdown",
   "source": [
    "## 1.1: Quali sono le 10 pagine di Wikipedia con maggior numero di link verso altre pagine?\n",
    "\n",
    "Per trovare i 10 nodi con grado in uscita maggiore, aggiungiamo tutti i nodi con grado massimo a una lista finchè questa non arriva a lunghezza 10. Partiamo dal grado massimo e ad ogni aggiunta decrementiamo di 1. Abbiamo scelto questa strada in quanto l'ordinamento dei nodi per grado decrescente sarebbe stato leggermente più costoso a livello computazionale rispetto a calcolarne il massimo 10 volte. "
   ],
   "id": "de3cb6ea1f882aa4"
  },
  {
   "metadata": {
    "ExecuteTime": {
     "end_time": "2024-06-27T09:36:41.893368Z",
     "start_time": "2024-06-27T09:36:41.760335Z"
    }
   },
   "cell_type": "code",
   "source": [
    "max_degree = max(degrees)\n",
    "top_10 = list()\n",
    "\n",
    "while len(top_10)<10:\n",
    "    if max_degree in g_outDegree.keys():\n",
    "        nodes = list(g_outDegree[max_degree][0])\n",
    "        top_10.extend(nodes)\n",
    "    max_degree = max_degree - 1\n",
    "top10 = top_10[:10]\n",
    "top10_pages = []\n",
    "for id in top10:\n",
    "    top10_pages.append(id_to_page[id])\n",
    "top10_pages = pd.Series(top10_pages, index=range(1,11))\n",
    "print(top10_pages)"
   ],
   "id": "833a11df0ddffedb",
   "outputs": [
    {
     "name": "stdout",
     "output_type": "stream",
     "text": [
      "1                  Città dell'India\n",
      "2     Classificazione Nickel-Strunz\n",
      "3                     Nati nel 1981\n",
      "4                     Nati nel 1985\n",
      "5                     Nati nel 1983\n",
      "6                     Nati nel 1984\n",
      "7                     Nati nel 1986\n",
      "8                     Nati nel 1982\n",
      "9                     Nati nel 1980\n",
      "10                Nativi del Veneto\n",
      "dtype: object\n"
     ]
    }
   ],
   "execution_count": 44
  },
  {
   "metadata": {},
   "cell_type": "markdown",
   "source": [
    "# Domanda 2: Sia U(G) la versione indiretta del grafo. Calcola il diametro della sua componente connessa più grande.\n",
    "\n",
    "Per il calcolo del diametro utilizzeremo l'algoritmo \"iFub\" visto a lezione. Prima di tutto definisco una funzione per rendere il grafo indiretto e selezionare la componente connessa più grande."
   ],
   "id": "2400da16e1596657"
  },
  {
   "metadata": {
    "ExecuteTime": {
     "end_time": "2024-06-27T10:30:47.832624Z",
     "start_time": "2024-06-27T09:55:51.251269Z"
    }
   },
   "cell_type": "code",
   "source": [
    "def get_largest_cc_undirected(G:nx.DiGraph)->nx.Graph:\n",
    "    G = nx.to_undirected(G)\n",
    "    return G.subgraph(\n",
    "    sorted(nx.connected_components(G), key = len, reverse=True)[0]\n",
    "    ).copy()\n",
    "\n",
    "u_g_largest_cc = get_largest_cc_undirected(g_prova)\n",
    "\n",
    "print(u_g_largest_cc)"
   ],
   "id": "6e49de5194cb7660",
   "outputs": [
    {
     "name": "stdout",
     "output_type": "stream",
     "text": [
      "Graph with 1016177 nodes and 23436213 edges\n"
     ]
    }
   ],
   "execution_count": 50
  },
  {
   "metadata": {
    "ExecuteTime": {
     "end_time": "2024-06-27T10:30:48.151759Z",
     "start_time": "2024-06-27T10:30:47.951256Z"
    }
   },
   "cell_type": "code",
   "source": [
    "def calculate_F(G:nx.Graph,node:int,distance:int)->set:\n",
    "    return nx.descendants_at_distance(G,node,distance) # conviene fare la bfs a mano e poi fare un dizionario a cui associo il la distanza\n",
    "\n",
    "def calculate_B_i(G:nx.Graph, node:int, i:int)->int:\n",
    "    F = calculate_F(G,node,distance=i)\n",
    "    B_i = 0\n",
    "    for node in F:\n",
    "        max = nx.eccentricity(G, v=node)\n",
    "        if max > B_i:\n",
    "            B_i = max\n",
    "    return B_i"
   ],
   "id": "345b873fc3bd3513",
   "outputs": [],
   "execution_count": 51
  },
  {
   "metadata": {},
   "cell_type": "markdown",
   "source": "",
   "id": "2a0609a72326e514"
  },
  {
   "metadata": {
    "ExecuteTime": {
     "end_time": "2024-06-27T11:32:05.789872Z",
     "start_time": "2024-06-27T10:30:48.157563Z"
    }
   },
   "cell_type": "code",
   "source": [
    "def iFub(G:nx.DiGraph)-> int:\n",
    "    G = get_largest_cc_undirected(G)\n",
    "    starting_node = page_to_id[top10_pages[1]]\n",
    "    i = nx.eccentricity(G,v=starting_node)\n",
    "    lb = i\n",
    "    ub = 2*lb\n",
    "    \n",
    "    while ub > lb:\n",
    "        B_i = calculate_B_i(G,starting_node,i)\n",
    "        max = np.max([lb,B_i])\n",
    "        if max > 2*(i-1):\n",
    "            return max\n",
    "        else:\n",
    "            lb = max\n",
    "            ub = 2*(i-1)\n",
    "        i=i-1\n",
    "    return lb\n",
    "\n",
    "diameter = iFub(g_prova)\n",
    "print(\"diameter iFub: \", diameter)"
   ],
   "id": "eaebd42ac7b3df10",
   "outputs": [
    {
     "name": "stdout",
     "output_type": "stream",
     "text": [
      "diameter iFub:  8\n"
     ]
    }
   ],
   "execution_count": 52
  },
  {
   "metadata": {
    "ExecuteTime": {
     "end_time": "2024-06-27T13:34:12.165129Z",
     "start_time": "2024-06-27T11:58:34.923421Z"
    }
   },
   "cell_type": "code",
   "source": [
    "diameter_nx = nx.diameter(u_g_largest_cc)\n",
    "print(\"diameter nx: \", diameter_nx)"
   ],
   "id": "b98969f6a588df86",
   "outputs": [
    {
     "ename": "KeyboardInterrupt",
     "evalue": "",
     "output_type": "error",
     "traceback": [
      "\u001B[1;31m---------------------------------------------------------------------------\u001B[0m",
      "\u001B[1;31mKeyboardInterrupt\u001B[0m                         Traceback (most recent call last)",
      "Cell \u001B[1;32mIn[54], line 1\u001B[0m\n\u001B[1;32m----> 1\u001B[0m diameter_nx \u001B[38;5;241m=\u001B[39m \u001B[43mnx\u001B[49m\u001B[38;5;241;43m.\u001B[39;49m\u001B[43mdiameter\u001B[49m\u001B[43m(\u001B[49m\u001B[43mu_g_largest_cc\u001B[49m\u001B[43m)\u001B[49m\n\u001B[0;32m      2\u001B[0m \u001B[38;5;28mprint\u001B[39m(\u001B[38;5;124m\"\u001B[39m\u001B[38;5;124mdiameter nx: \u001B[39m\u001B[38;5;124m\"\u001B[39m, diameter_nx)\n",
      "File \u001B[1;32m<class 'networkx.utils.decorators.argmap'> compilation 37:3\u001B[0m, in \u001B[0;36margmap_diameter_34\u001B[1;34m(G, e, usebounds, weight, backend, **backend_kwargs)\u001B[0m\n\u001B[0;32m      1\u001B[0m \u001B[38;5;28;01mimport\u001B[39;00m \u001B[38;5;21;01mbz2\u001B[39;00m\n\u001B[0;32m      2\u001B[0m \u001B[38;5;28;01mimport\u001B[39;00m \u001B[38;5;21;01mcollections\u001B[39;00m\n\u001B[1;32m----> 3\u001B[0m \u001B[38;5;28;01mimport\u001B[39;00m \u001B[38;5;21;01mgzip\u001B[39;00m\n\u001B[0;32m      4\u001B[0m \u001B[38;5;28;01mimport\u001B[39;00m \u001B[38;5;21;01minspect\u001B[39;00m\n\u001B[0;32m      5\u001B[0m \u001B[38;5;28;01mimport\u001B[39;00m \u001B[38;5;21;01mitertools\u001B[39;00m\n",
      "File \u001B[1;32m~\\PycharmProjects\\pythonProject\\.venv\\Lib\\site-packages\\networkx\\utils\\backends.py:633\u001B[0m, in \u001B[0;36m_dispatchable.__call__\u001B[1;34m(self, backend, *args, **kwargs)\u001B[0m\n\u001B[0;32m    628\u001B[0m \u001B[38;5;250m\u001B[39m\u001B[38;5;124;03m\"\"\"Returns the result of the original function, or the backend function if\u001B[39;00m\n\u001B[0;32m    629\u001B[0m \u001B[38;5;124;03mthe backend is specified and that backend implements `func`.\"\"\"\u001B[39;00m\n\u001B[0;32m    631\u001B[0m \u001B[38;5;28;01mif\u001B[39;00m \u001B[38;5;129;01mnot\u001B[39;00m backends:\n\u001B[0;32m    632\u001B[0m     \u001B[38;5;66;03m# Fast path if no backends are installed\u001B[39;00m\n\u001B[1;32m--> 633\u001B[0m     \u001B[38;5;28;01mreturn\u001B[39;00m \u001B[38;5;28;43mself\u001B[39;49m\u001B[38;5;241;43m.\u001B[39;49m\u001B[43morig_func\u001B[49m\u001B[43m(\u001B[49m\u001B[38;5;241;43m*\u001B[39;49m\u001B[43margs\u001B[49m\u001B[43m,\u001B[49m\u001B[43m \u001B[49m\u001B[38;5;241;43m*\u001B[39;49m\u001B[38;5;241;43m*\u001B[39;49m\u001B[43mkwargs\u001B[49m\u001B[43m)\u001B[49m\n\u001B[0;32m    635\u001B[0m \u001B[38;5;66;03m# Use `backend_name` in this function instead of `backend`\u001B[39;00m\n\u001B[0;32m    636\u001B[0m backend_name \u001B[38;5;241m=\u001B[39m backend\n",
      "File \u001B[1;32m~\\PycharmProjects\\pythonProject\\.venv\\Lib\\site-packages\\networkx\\algorithms\\distance_measures.py:381\u001B[0m, in \u001B[0;36mdiameter\u001B[1;34m(G, e, usebounds, weight)\u001B[0m\n\u001B[0;32m    379\u001B[0m     \u001B[38;5;28;01mreturn\u001B[39;00m _extrema_bounding(G, compute\u001B[38;5;241m=\u001B[39m\u001B[38;5;124m\"\u001B[39m\u001B[38;5;124mdiameter\u001B[39m\u001B[38;5;124m\"\u001B[39m, weight\u001B[38;5;241m=\u001B[39mweight)\n\u001B[0;32m    380\u001B[0m \u001B[38;5;28;01mif\u001B[39;00m e \u001B[38;5;129;01mis\u001B[39;00m \u001B[38;5;28;01mNone\u001B[39;00m:\n\u001B[1;32m--> 381\u001B[0m     e \u001B[38;5;241m=\u001B[39m \u001B[43meccentricity\u001B[49m\u001B[43m(\u001B[49m\u001B[43mG\u001B[49m\u001B[43m,\u001B[49m\u001B[43m \u001B[49m\u001B[43mweight\u001B[49m\u001B[38;5;241;43m=\u001B[39;49m\u001B[43mweight\u001B[49m\u001B[43m)\u001B[49m\n\u001B[0;32m    382\u001B[0m \u001B[38;5;28;01mreturn\u001B[39;00m \u001B[38;5;28mmax\u001B[39m(e\u001B[38;5;241m.\u001B[39mvalues())\n",
      "File \u001B[1;32m<class 'networkx.utils.decorators.argmap'> compilation 17:3\u001B[0m, in \u001B[0;36margmap_eccentricity_14\u001B[1;34m(G, v, sp, weight, backend, **backend_kwargs)\u001B[0m\n\u001B[0;32m      1\u001B[0m \u001B[38;5;28;01mimport\u001B[39;00m \u001B[38;5;21;01mbz2\u001B[39;00m\n\u001B[0;32m      2\u001B[0m \u001B[38;5;28;01mimport\u001B[39;00m \u001B[38;5;21;01mcollections\u001B[39;00m\n\u001B[1;32m----> 3\u001B[0m \u001B[38;5;28;01mimport\u001B[39;00m \u001B[38;5;21;01mgzip\u001B[39;00m\n\u001B[0;32m      4\u001B[0m \u001B[38;5;28;01mimport\u001B[39;00m \u001B[38;5;21;01minspect\u001B[39;00m\n\u001B[0;32m      5\u001B[0m \u001B[38;5;28;01mimport\u001B[39;00m \u001B[38;5;21;01mitertools\u001B[39;00m\n",
      "File \u001B[1;32m~\\PycharmProjects\\pythonProject\\.venv\\Lib\\site-packages\\networkx\\utils\\backends.py:633\u001B[0m, in \u001B[0;36m_dispatchable.__call__\u001B[1;34m(self, backend, *args, **kwargs)\u001B[0m\n\u001B[0;32m    628\u001B[0m \u001B[38;5;250m\u001B[39m\u001B[38;5;124;03m\"\"\"Returns the result of the original function, or the backend function if\u001B[39;00m\n\u001B[0;32m    629\u001B[0m \u001B[38;5;124;03mthe backend is specified and that backend implements `func`.\"\"\"\u001B[39;00m\n\u001B[0;32m    631\u001B[0m \u001B[38;5;28;01mif\u001B[39;00m \u001B[38;5;129;01mnot\u001B[39;00m backends:\n\u001B[0;32m    632\u001B[0m     \u001B[38;5;66;03m# Fast path if no backends are installed\u001B[39;00m\n\u001B[1;32m--> 633\u001B[0m     \u001B[38;5;28;01mreturn\u001B[39;00m \u001B[38;5;28;43mself\u001B[39;49m\u001B[38;5;241;43m.\u001B[39;49m\u001B[43morig_func\u001B[49m\u001B[43m(\u001B[49m\u001B[38;5;241;43m*\u001B[39;49m\u001B[43margs\u001B[49m\u001B[43m,\u001B[49m\u001B[43m \u001B[49m\u001B[38;5;241;43m*\u001B[39;49m\u001B[38;5;241;43m*\u001B[39;49m\u001B[43mkwargs\u001B[49m\u001B[43m)\u001B[49m\n\u001B[0;32m    635\u001B[0m \u001B[38;5;66;03m# Use `backend_name` in this function instead of `backend`\u001B[39;00m\n\u001B[0;32m    636\u001B[0m backend_name \u001B[38;5;241m=\u001B[39m backend\n",
      "File \u001B[1;32m~\\PycharmProjects\\pythonProject\\.venv\\Lib\\site-packages\\networkx\\algorithms\\distance_measures.py:303\u001B[0m, in \u001B[0;36meccentricity\u001B[1;34m(G, v, sp, weight)\u001B[0m\n\u001B[0;32m    301\u001B[0m \u001B[38;5;28;01mfor\u001B[39;00m n \u001B[38;5;129;01min\u001B[39;00m G\u001B[38;5;241m.\u001B[39mnbunch_iter(v):\n\u001B[0;32m    302\u001B[0m     \u001B[38;5;28;01mif\u001B[39;00m sp \u001B[38;5;129;01mis\u001B[39;00m \u001B[38;5;28;01mNone\u001B[39;00m:\n\u001B[1;32m--> 303\u001B[0m         length \u001B[38;5;241m=\u001B[39m \u001B[43mnx\u001B[49m\u001B[38;5;241;43m.\u001B[39;49m\u001B[43mshortest_path_length\u001B[49m\u001B[43m(\u001B[49m\u001B[43mG\u001B[49m\u001B[43m,\u001B[49m\u001B[43m \u001B[49m\u001B[43msource\u001B[49m\u001B[38;5;241;43m=\u001B[39;49m\u001B[43mn\u001B[49m\u001B[43m,\u001B[49m\u001B[43m \u001B[49m\u001B[43mweight\u001B[49m\u001B[38;5;241;43m=\u001B[39;49m\u001B[43mweight\u001B[49m\u001B[43m)\u001B[49m\n\u001B[0;32m    305\u001B[0m         L \u001B[38;5;241m=\u001B[39m \u001B[38;5;28mlen\u001B[39m(length)\n\u001B[0;32m    306\u001B[0m     \u001B[38;5;28;01melse\u001B[39;00m:\n",
      "File \u001B[1;32m<class 'networkx.utils.decorators.argmap'> compilation 21:3\u001B[0m, in \u001B[0;36margmap_shortest_path_length_18\u001B[1;34m(G, source, target, weight, method, backend, **backend_kwargs)\u001B[0m\n\u001B[0;32m      1\u001B[0m \u001B[38;5;28;01mimport\u001B[39;00m \u001B[38;5;21;01mbz2\u001B[39;00m\n\u001B[0;32m      2\u001B[0m \u001B[38;5;28;01mimport\u001B[39;00m \u001B[38;5;21;01mcollections\u001B[39;00m\n\u001B[1;32m----> 3\u001B[0m \u001B[38;5;28;01mimport\u001B[39;00m \u001B[38;5;21;01mgzip\u001B[39;00m\n\u001B[0;32m      4\u001B[0m \u001B[38;5;28;01mimport\u001B[39;00m \u001B[38;5;21;01minspect\u001B[39;00m\n\u001B[0;32m      5\u001B[0m \u001B[38;5;28;01mimport\u001B[39;00m \u001B[38;5;21;01mitertools\u001B[39;00m\n",
      "File \u001B[1;32m~\\PycharmProjects\\pythonProject\\.venv\\Lib\\site-packages\\networkx\\utils\\backends.py:633\u001B[0m, in \u001B[0;36m_dispatchable.__call__\u001B[1;34m(self, backend, *args, **kwargs)\u001B[0m\n\u001B[0;32m    628\u001B[0m \u001B[38;5;250m\u001B[39m\u001B[38;5;124;03m\"\"\"Returns the result of the original function, or the backend function if\u001B[39;00m\n\u001B[0;32m    629\u001B[0m \u001B[38;5;124;03mthe backend is specified and that backend implements `func`.\"\"\"\u001B[39;00m\n\u001B[0;32m    631\u001B[0m \u001B[38;5;28;01mif\u001B[39;00m \u001B[38;5;129;01mnot\u001B[39;00m backends:\n\u001B[0;32m    632\u001B[0m     \u001B[38;5;66;03m# Fast path if no backends are installed\u001B[39;00m\n\u001B[1;32m--> 633\u001B[0m     \u001B[38;5;28;01mreturn\u001B[39;00m \u001B[38;5;28;43mself\u001B[39;49m\u001B[38;5;241;43m.\u001B[39;49m\u001B[43morig_func\u001B[49m\u001B[43m(\u001B[49m\u001B[38;5;241;43m*\u001B[39;49m\u001B[43margs\u001B[49m\u001B[43m,\u001B[49m\u001B[43m \u001B[49m\u001B[38;5;241;43m*\u001B[39;49m\u001B[38;5;241;43m*\u001B[39;49m\u001B[43mkwargs\u001B[49m\u001B[43m)\u001B[49m\n\u001B[0;32m    635\u001B[0m \u001B[38;5;66;03m# Use `backend_name` in this function instead of `backend`\u001B[39;00m\n\u001B[0;32m    636\u001B[0m backend_name \u001B[38;5;241m=\u001B[39m backend\n",
      "File \u001B[1;32m~\\PycharmProjects\\pythonProject\\.venv\\Lib\\site-packages\\networkx\\algorithms\\shortest_paths\\generic.py:315\u001B[0m, in \u001B[0;36mshortest_path_length\u001B[1;34m(G, source, target, weight, method)\u001B[0m\n\u001B[0;32m    312\u001B[0m \u001B[38;5;28;01mif\u001B[39;00m target \u001B[38;5;129;01mis\u001B[39;00m \u001B[38;5;28;01mNone\u001B[39;00m:\n\u001B[0;32m    313\u001B[0m     \u001B[38;5;66;03m# Find paths to all nodes accessible from the source.\u001B[39;00m\n\u001B[0;32m    314\u001B[0m     \u001B[38;5;28;01mif\u001B[39;00m method \u001B[38;5;241m==\u001B[39m \u001B[38;5;124m\"\u001B[39m\u001B[38;5;124munweighted\u001B[39m\u001B[38;5;124m\"\u001B[39m:\n\u001B[1;32m--> 315\u001B[0m         paths \u001B[38;5;241m=\u001B[39m \u001B[43mnx\u001B[49m\u001B[38;5;241;43m.\u001B[39;49m\u001B[43msingle_source_shortest_path_length\u001B[49m\u001B[43m(\u001B[49m\u001B[43mG\u001B[49m\u001B[43m,\u001B[49m\u001B[43m \u001B[49m\u001B[43msource\u001B[49m\u001B[43m)\u001B[49m\n\u001B[0;32m    316\u001B[0m     \u001B[38;5;28;01melif\u001B[39;00m method \u001B[38;5;241m==\u001B[39m \u001B[38;5;124m\"\u001B[39m\u001B[38;5;124mdijkstra\u001B[39m\u001B[38;5;124m\"\u001B[39m:\n\u001B[0;32m    317\u001B[0m         path_length \u001B[38;5;241m=\u001B[39m nx\u001B[38;5;241m.\u001B[39msingle_source_dijkstra_path_length\n",
      "File \u001B[1;32m<class 'networkx.utils.decorators.argmap'> compilation 25:3\u001B[0m, in \u001B[0;36margmap_single_source_shortest_path_length_22\u001B[1;34m(G, source, cutoff, backend, **backend_kwargs)\u001B[0m\n\u001B[0;32m      1\u001B[0m \u001B[38;5;28;01mimport\u001B[39;00m \u001B[38;5;21;01mbz2\u001B[39;00m\n\u001B[0;32m      2\u001B[0m \u001B[38;5;28;01mimport\u001B[39;00m \u001B[38;5;21;01mcollections\u001B[39;00m\n\u001B[1;32m----> 3\u001B[0m \u001B[38;5;28;01mimport\u001B[39;00m \u001B[38;5;21;01mgzip\u001B[39;00m\n\u001B[0;32m      4\u001B[0m \u001B[38;5;28;01mimport\u001B[39;00m \u001B[38;5;21;01minspect\u001B[39;00m\n\u001B[0;32m      5\u001B[0m \u001B[38;5;28;01mimport\u001B[39;00m \u001B[38;5;21;01mitertools\u001B[39;00m\n",
      "File \u001B[1;32m~\\PycharmProjects\\pythonProject\\.venv\\Lib\\site-packages\\networkx\\utils\\backends.py:633\u001B[0m, in \u001B[0;36m_dispatchable.__call__\u001B[1;34m(self, backend, *args, **kwargs)\u001B[0m\n\u001B[0;32m    628\u001B[0m \u001B[38;5;250m\u001B[39m\u001B[38;5;124;03m\"\"\"Returns the result of the original function, or the backend function if\u001B[39;00m\n\u001B[0;32m    629\u001B[0m \u001B[38;5;124;03mthe backend is specified and that backend implements `func`.\"\"\"\u001B[39;00m\n\u001B[0;32m    631\u001B[0m \u001B[38;5;28;01mif\u001B[39;00m \u001B[38;5;129;01mnot\u001B[39;00m backends:\n\u001B[0;32m    632\u001B[0m     \u001B[38;5;66;03m# Fast path if no backends are installed\u001B[39;00m\n\u001B[1;32m--> 633\u001B[0m     \u001B[38;5;28;01mreturn\u001B[39;00m \u001B[38;5;28;43mself\u001B[39;49m\u001B[38;5;241;43m.\u001B[39;49m\u001B[43morig_func\u001B[49m\u001B[43m(\u001B[49m\u001B[38;5;241;43m*\u001B[39;49m\u001B[43margs\u001B[49m\u001B[43m,\u001B[49m\u001B[43m \u001B[49m\u001B[38;5;241;43m*\u001B[39;49m\u001B[38;5;241;43m*\u001B[39;49m\u001B[43mkwargs\u001B[49m\u001B[43m)\u001B[49m\n\u001B[0;32m    635\u001B[0m \u001B[38;5;66;03m# Use `backend_name` in this function instead of `backend`\u001B[39;00m\n\u001B[0;32m    636\u001B[0m backend_name \u001B[38;5;241m=\u001B[39m backend\n",
      "File \u001B[1;32m~\\PycharmProjects\\pythonProject\\.venv\\Lib\\site-packages\\networkx\\algorithms\\shortest_paths\\unweighted.py:62\u001B[0m, in \u001B[0;36msingle_source_shortest_path_length\u001B[1;34m(G, source, cutoff)\u001B[0m\n\u001B[0;32m     60\u001B[0m     cutoff \u001B[38;5;241m=\u001B[39m \u001B[38;5;28mfloat\u001B[39m(\u001B[38;5;124m\"\u001B[39m\u001B[38;5;124minf\u001B[39m\u001B[38;5;124m\"\u001B[39m)\n\u001B[0;32m     61\u001B[0m nextlevel \u001B[38;5;241m=\u001B[39m [source]\n\u001B[1;32m---> 62\u001B[0m \u001B[38;5;28;01mreturn\u001B[39;00m \u001B[38;5;28;43mdict\u001B[39;49m\u001B[43m(\u001B[49m\u001B[43m_single_shortest_path_length\u001B[49m\u001B[43m(\u001B[49m\u001B[43mG\u001B[49m\u001B[38;5;241;43m.\u001B[39;49m\u001B[43m_adj\u001B[49m\u001B[43m,\u001B[49m\u001B[43m \u001B[49m\u001B[43mnextlevel\u001B[49m\u001B[43m,\u001B[49m\u001B[43m \u001B[49m\u001B[43mcutoff\u001B[49m\u001B[43m)\u001B[49m\u001B[43m)\u001B[49m\n",
      "File \u001B[1;32m~\\PycharmProjects\\pythonProject\\.venv\\Lib\\site-packages\\networkx\\algorithms\\shortest_paths\\unweighted.py:90\u001B[0m, in \u001B[0;36m_single_shortest_path_length\u001B[1;34m(adj, firstlevel, cutoff)\u001B[0m\n\u001B[0;32m     88\u001B[0m \u001B[38;5;28;01mfor\u001B[39;00m v \u001B[38;5;129;01min\u001B[39;00m thislevel:\n\u001B[0;32m     89\u001B[0m     \u001B[38;5;28;01mfor\u001B[39;00m w \u001B[38;5;129;01min\u001B[39;00m adj[v]:\n\u001B[1;32m---> 90\u001B[0m         \u001B[38;5;28;01mif\u001B[39;00m w \u001B[38;5;129;01mnot\u001B[39;00m \u001B[38;5;129;01min\u001B[39;00m seen:\n\u001B[0;32m     91\u001B[0m             seen\u001B[38;5;241m.\u001B[39madd(w)\n\u001B[0;32m     92\u001B[0m             nextlevel\u001B[38;5;241m.\u001B[39mappend(w)\n",
      "\u001B[1;31mKeyboardInterrupt\u001B[0m: "
     ]
    }
   ],
   "execution_count": 54
  },
  {
   "metadata": {
    "jupyter": {
     "is_executing": true
    }
   },
   "cell_type": "code",
   "source": [
    "def create_graph_without_disambigua(df:pd.DataFrame) -> nx.DiGraph:\n",
    "    G = nx.DiGraph()\n",
    "    \n",
    "    for index, line in df.iterrows():\n",
    "        v1 = int(line['v1'])\n",
    "        v2 = int(line['v2'])\n",
    "        \n",
    "        if \"disambigua\" not in id_to_page[v1] and \"disambigua\" not in id_to_page[v2]:\n",
    "            G.add_edge(v1,v2)\n",
    "    return G"
   ],
   "id": "3206a7612f3847",
   "outputs": [],
   "execution_count": null
  },
  {
   "metadata": {
    "jupyter": {
     "is_executing": true
    }
   },
   "cell_type": "code",
   "source": [
    "G_without_disambigua_prova = create_graph_without_disambigua(arcs_df_prova)\n",
    "print(G_without_disambigua_prova)"
   ],
   "id": "71f0f8097b4349eb",
   "outputs": [],
   "execution_count": null
  },
  {
   "metadata": {
    "jupyter": {
     "is_executing": true
    }
   },
   "cell_type": "code",
   "source": [
    "diameter_without_disambigua = iFub(G_without_disambigua_prova)\n",
    "print(\"diameter iFub: \", diameter_without_disambigua)"
   ],
   "id": "c40dd2d1fdabded1",
   "outputs": [],
   "execution_count": null
  },
  {
   "metadata": {},
   "cell_type": "code",
   "outputs": [],
   "execution_count": null,
   "source": [
    "u_g_without_disambigua = get_largest_cc_undirected(G_without_disambigua_prova)\n",
    "print(nx.diameter(\"diameter nx: \", u_g_without_disambigua))"
   ],
   "id": "c6d9b3ae6c12a701"
  },
  {
   "metadata": {},
   "cell_type": "markdown",
   "source": [
    "Trovare una clique massimale nel grafo indiretto U(g). \n",
    "Clique: sottografo completo (ogni nodo è connesso ad ogni altro). Clique massimale: aggiungendo un altro nodo smetterebbe di essere una clique. Idea: parto da un clique vuota, aggiungo un nodo e verifico se è ancora una clique. L'aggiunta dei nodi avviene col metodo della visita in profondità (DFS), poichè valuto un nodo alla volta vicino di uno precedentemente valutato.\n",
    "\n"
   ],
   "id": "1bcca1940d57bd78"
  },
  {
   "metadata": {
    "jupyter": {
     "is_executing": true
    }
   },
   "cell_type": "code",
   "source": [
    "def Bron_Kerbosch(G, R, P, X):\n",
    "    if not P and not X:\n",
    "        return R\n",
    "    for v in list(P):\n",
    "        myclique = Bron_Kerbosch(\n",
    "            G, \n",
    "            R.union({v}), \n",
    "            P.intersection(G.neighbors(v)), \n",
    "            X.intersection(G.neighbors(v))\n",
    "        )\n",
    "        if myclique and len(myclique)>3:\n",
    "            return myclique\n",
    "        P.remove(v)\n",
    "        X.add(v)\n",
    "    return None"
   ],
   "id": "97ef15a930cbc64c",
   "outputs": [],
   "execution_count": null
  },
  {
   "metadata": {
    "jupyter": {
     "is_executing": true
    }
   },
   "cell_type": "code",
   "source": [
    "from random import choice \n",
    "def find_maximal_clique(G):\n",
    "    G = nx.to_undirected(G)\n",
    "    nodes = list(G.nodes())\n",
    "    \n",
    "    for i in range(len(nodes)):\n",
    "        start_node = choice(nodes)\n",
    "        R = {start_node}\n",
    "        P = set(G.neighbors(start_node))\n",
    "        X = set()\n",
    "        myclique = Bron_Kerbosch(G, R, P, X)\n",
    "        if myclique and len(myclique) > 3:\n",
    "            myclique_pages = set()\n",
    "            for id in myclique:\n",
    "                myclique_pages.add(id_to_page[id])\n",
    "            return myclique_pages\n",
    "    \n",
    "    return None  # se nessuna clique di ordine almeno 3 è trovata\n",
    "\n",
    "maximal_clique = find_maximal_clique(g_prova)\n",
    "print(\"Una clique massimale è composta da:\", maximal_clique)\n",
    "\n"
   ],
   "id": "37afe0bc8c65d7de",
   "outputs": [],
   "execution_count": null
  }
 ],
 "metadata": {
  "kernelspec": {
   "display_name": "Python 3",
   "language": "python",
   "name": "python3"
  },
  "language_info": {
   "codemirror_mode": {
    "name": "ipython",
    "version": 2
   },
   "file_extension": ".py",
   "mimetype": "text/x-python",
   "name": "python",
   "nbconvert_exporter": "python",
   "pygments_lexer": "ipython2",
   "version": "2.7.6"
  }
 },
 "nbformat": 4,
 "nbformat_minor": 5
}
