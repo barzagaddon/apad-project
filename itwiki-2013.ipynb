{
 "cells": [
  {
   "metadata": {},
   "cell_type": "markdown",
   "source": [
    "# Analisi del grafo di Wikipedia Italia 2013\n",
    "## Progetto finale di Algoritmi e Programmazione per Analisi Dati - A.A. 2023/2024\n",
    "## Autore: Cristian Bargiacchi"
   ],
   "id": "4310a9b74f36198e"
  },
  {
   "metadata": {},
   "cell_type": "markdown",
   "source": "Il progetto consiste nel rispondere a delle domande riguardanti metodi di analisi di grafi viste a lezione, ed è articolato in 3 punti principali. Di seguito importiamo le librerie che serviranno:",
   "id": "695395392c9c69cc"
  },
  {
   "cell_type": "code",
   "id": "initial_id",
   "metadata": {
    "collapsed": true,
    "ExecuteTime": {
     "end_time": "2024-07-03T08:20:43.583053Z",
     "start_time": "2024-07-03T08:20:39.745800Z"
    }
   },
   "source": [
    "import pandas as pd\n",
    "import numpy as np\n",
    "import networkx as nx\n",
    "import matplotlib.pyplot as plt\n",
    "from queue import Queue\n",
    "from collections import defaultdict\n",
    "from random import choice"
   ],
   "outputs": [],
   "execution_count": 1
  },
  {
   "metadata": {},
   "cell_type": "markdown",
   "source": "Abbiamo due file: il primo, denominato \"itwiki-2013.arcs\" contiene una riga per ogni arco del nostro grafo. Il secondo, denominato \"itwiki-2013.ids\" contiene gli ID delle pagine di Wikipedia. La numerazione dei nodi segue gli indici delle righe (alla i-esima riga, numero i). Costruiamo un dizionario che associa i nomi delle pagine al corrispondente ID, ovvero l'indice di riga. Già che ci siamo costruiamo anche il dizionario inverso, che associa ad ogni ID la denominazione della pagina corrispondente (ci servirà in seguito).",
   "id": "4c023f8f573c054c"
  },
  {
   "metadata": {
    "ExecuteTime": {
     "end_time": "2024-07-03T08:20:44.438325Z",
     "start_time": "2024-07-03T08:20:43.583053Z"
    }
   },
   "cell_type": "code",
   "source": [
    "path_ids = \"Data/itwiki-2013.ids\"\n",
    "page_to_id = {}\n",
    "id_to_page = {}\n",
    "with open(path_ids, 'r', encoding='utf-8') as reader_1:\n",
    "    for i, line in enumerate(reader_1):\n",
    "        line = line.strip()\n",
    "        page_to_id[line] = i\n",
    "        id_to_page[i]=line\n",
    "\n",
    "print(id_to_page.get(261576))\n",
    "print(page_to_id.get(\"Città dell'India\"))"
   ],
   "id": "f6b872901ab10fef",
   "outputs": [
    {
     "name": "stdout",
     "output_type": "stream",
     "text": [
      "Città dell'India\n",
      "261576\n"
     ]
    }
   ],
   "execution_count": 2
  },
  {
   "metadata": {},
   "cell_type": "markdown",
   "source": "A questo punto procediamo alla costruzione del grafo direzionato su Network X. Per farlo ci conviene prima trasformare il file csv degli archi in un oggetto \"Data Frame\" della libreria Pandas. Costruiamo anche una versione ridotta di 10.000 archi per usarlo come prova.",
   "id": "7c399c8907aedbb3"
  },
  {
   "metadata": {
    "ExecuteTime": {
     "end_time": "2024-07-03T08:20:48.437883Z",
     "start_time": "2024-07-03T08:20:44.438325Z"
    }
   },
   "cell_type": "code",
   "source": [
    "path_arcs = \"Data/itwiki-2013.arcs\"\n",
    "arcs_df_prova = pd.read_csv(path_arcs,sep=\" \", header=None, names=['v1','v2'])"
   ],
   "id": "9a53819d86ba739e",
   "outputs": [],
   "execution_count": 3
  },
  {
   "metadata": {},
   "cell_type": "markdown",
   "source": "A questo punto procediamo alla costruzione del grafo direzionato.",
   "id": "73ad85a969c58e7c"
  },
  {
   "metadata": {
    "ExecuteTime": {
     "end_time": "2024-07-03T08:31:28.519079Z",
     "start_time": "2024-07-03T08:20:48.437883Z"
    }
   },
   "cell_type": "code",
   "source": [
    "def create_graph(df:pd.DataFrame) -> nx.DiGraph:\n",
    "    G = nx.DiGraph()\n",
    "    \n",
    "    for index, line in df.iterrows():\n",
    "        v1 = int(line['v1'])\n",
    "        v2 = int(line['v2'])\n",
    "        G.add_edge(v1,v2)\n",
    "        \n",
    "    return G\n",
    "g_prova = create_graph(arcs_df_prova)\n",
    "print(g_prova)"
   ],
   "id": "3b76d5dabb0be505",
   "outputs": [
    {
     "name": "stdout",
     "output_type": "stream",
     "text": [
      "DiGraph with 1016179 nodes and 25619926 edges\n"
     ]
    }
   ],
   "execution_count": 4
  },
  {
   "metadata": {},
   "cell_type": "markdown",
   "source": [
    "# Domanda 1: Calcola la distribuzione \"out-degree\" del grafo\n",
    "\n",
    "Per rispondere alla prima domanda definiremo una funzione \"outDegree_distribution\". Essa costruirà un dizionario che associa ad ogni nodo la lista dei suoi vicini uscenti: il grado in uscita del nodo sarà la lunghezza di questa lista.\n",
    "A questo punto sarebbe sufficiente associare a ogni grado le frequenze di nodi aventi quel valore. Tuttavia oltre alla frequenza associamo al grado anche la lista dei nodi con quel valore di out degree, per poterli utilizzare in seguito. "
   ],
   "id": "d4c663740d399b16"
  },
  {
   "metadata": {
    "ExecuteTime": {
     "end_time": "2024-07-03T08:32:44.339315Z",
     "start_time": "2024-07-03T08:31:28.538712Z"
    }
   },
   "cell_type": "code",
   "source": [
    "def outDegree_distribution (g:nx.DiGraph) -> dict:\n",
    "    neighbors_dict ={node: list(g.successors(node)) for node in g.nodes()} # da nodo a lista vicini\n",
    "    distribution_dict = {} # da grado a array di 2 elementi: in posizione 0, nodi con quel grado; in posizione 1, conteggio nodi con quel grado\n",
    "    for node in neighbors_dict.keys():\n",
    "        degree_node = len(neighbors_dict[node])\n",
    "        if degree_node in distribution_dict:\n",
    "            distribution_dict[degree_node][0].append(node)\n",
    "            distribution_dict[degree_node][1]+=1\n",
    "        else:\n",
    "            distribution_dict[degree_node] = [[node],1]\n",
    "    return distribution_dict\n",
    "g_outDegree = outDegree_distribution(g_prova)"
   ],
   "id": "ff3b0f841b050d86",
   "outputs": [],
   "execution_count": 5
  },
  {
   "metadata": {},
   "cell_type": "markdown",
   "source": "Plottiamo la distribuzione delle frequenze degli out-degree:",
   "id": "105079f0bc70d4f6"
  },
  {
   "metadata": {
    "ExecuteTime": {
     "end_time": "2024-07-03T08:32:46.304303Z",
     "start_time": "2024-07-03T08:32:44.339315Z"
    }
   },
   "cell_type": "code",
   "source": [
    "degrees = list(g_outDegree.keys())\n",
    "frequencies = [g_outDegree[degree][1] for degree in degrees]\n",
    "\n",
    "plt.bar(degrees, frequencies)\n",
    "plt.xlabel('Out-degree')\n",
    "plt.ylabel('Frequency')\n",
    "plt.xlim([0,200])\n",
    "plt.ylim([0,max(frequencies)])\n",
    "plt.title('Out-degree Distribution')\n",
    "plt.show()"
   ],
   "id": "fe75099a385accdb",
   "outputs": [
    {
     "data": {
      "text/plain": [
       "<Figure size 640x480 with 1 Axes>"
      ],
      "image/png": "[encoded data removed]"
     },
     "metadata": {},
     "output_type": "display_data"
    }
   ],
   "execution_count": 6
  },
  {
   "metadata": {},
   "cell_type": "markdown",
   "source": [
    "## 1.1: Quali sono le 10 pagine di Wikipedia con maggior numero di link verso altre pagine?\n",
    "\n",
    "Per trovare i 10 nodi con grado in uscita maggiore, aggiungiamo tutti i nodi con grado massimo a una lista finchè questa non arriva a lunghezza 10. Partiamo dal grado massimo e ad ogni aggiunta decrementiamo di 1. Abbiamo scelto questa strada in quanto l'ordinamento dei nodi per grado decrescente sarebbe stato leggermente più costoso a livello computazionale rispetto a calcolarne il massimo 10 volte. "
   ],
   "id": "de3cb6ea1f882aa4"
  },
  {
   "metadata": {
    "ExecuteTime": {
     "end_time": "2024-07-03T08:32:46.340387Z",
     "start_time": "2024-07-03T08:32:46.304303Z"
    }
   },
   "cell_type": "code",
   "source": [
    "max_degree = max(degrees)\n",
    "top_10 = list()\n",
    "\n",
    "while len(top_10)<10:\n",
    "    if max_degree in g_outDegree.keys():\n",
    "        nodes = list(g_outDegree[max_degree][0])\n",
    "        top_10.extend(nodes)\n",
    "    max_degree = max_degree - 1\n",
    "top10 = top_10[:10]\n",
    "top10_pages = []\n",
    "for id in top10:\n",
    "    top10_pages.append(id_to_page[id])\n",
    "top10_pages = pd.Series(top10_pages, index=range(1,11))\n",
    "print(top10_pages)"
   ],
   "id": "833a11df0ddffedb",
   "outputs": [
    {
     "name": "stdout",
     "output_type": "stream",
     "text": [
      "1                  Città dell'India\n",
      "2     Classificazione Nickel-Strunz\n",
      "3                     Nati nel 1981\n",
      "4                     Nati nel 1985\n",
      "5                     Nati nel 1983\n",
      "6                     Nati nel 1984\n",
      "7                     Nati nel 1986\n",
      "8                     Nati nel 1982\n",
      "9                     Nati nel 1980\n",
      "10                Nativi del Veneto\n",
      "dtype: object\n"
     ]
    }
   ],
   "execution_count": 7
  },
  {
   "metadata": {},
   "cell_type": "markdown",
   "source": [
    "# Domanda 2: Sia U(G) la versione indiretta del grafo. Calcola il diametro della sua componente connessa più grande.\n",
    "\n",
    "Per il calcolo del diametro utilizzeremo l'algoritmo \"iFub\" visto a lezione. Prima di tutto definisco una funzione per rendere il grafo indiretto e selezionare la componente connessa più grande."
   ],
   "id": "2400da16e1596657"
  },
  {
   "metadata": {
    "ExecuteTime": {
     "end_time": "2024-07-03T09:01:00.439224Z",
     "start_time": "2024-07-03T08:32:46.340889Z"
    }
   },
   "cell_type": "code",
   "source": [
    "def get_largest_cc_undirected(G:nx.DiGraph)->nx.Graph:\n",
    "    G = nx.to_undirected(G)\n",
    "    return G.subgraph(\n",
    "    sorted(nx.connected_components(G), key = len, reverse=True)[0]\n",
    "    ).copy()\n",
    "\n",
    "LCC = get_largest_cc_undirected(g_prova)"
   ],
   "id": "6e49de5194cb7660",
   "outputs": [],
   "execution_count": 8
  },
  {
   "metadata": {},
   "cell_type": "markdown",
   "source": "Adesso facciamo una BFS dal nodo con grado maggiore della LCC, dopodichè in un dizionario associamo ogni nodo raggiunto alla distanza a cui si trova dal nodo di partenza. Ciò servirà per l'implementazione dell'algoritmo iFub e per recuperare le distanze in tempo costante, senza ricalcolarle ogni volta. La distanza massima sarà il nostro lower bound, mentre l'upper bound sarà il doppio.",
   "id": "184e566169de946e"
  },
  {
   "metadata": {
    "ExecuteTime": {
     "end_time": "2024-07-03T09:02:23.584544Z",
     "start_time": "2024-07-03T09:01:00.542913Z"
    }
   },
   "cell_type": "code",
   "source": [
    "def customBFS(LCC, startNode):\n",
    "    visited = {}\n",
    "    queue = Queue()\n",
    "    queue.put(startNode)\n",
    "    visited[startNode] = 0\n",
    "    while not queue.empty():\n",
    "        currentNode = queue.get()\n",
    "        for nextNode in LCC.neighbors(currentNode):\n",
    "            if nextNode not in visited:\n",
    "                queue.put(nextNode)\n",
    "                visited[nextNode]=visited[currentNode]+1\n",
    "    B_u = defaultdict(list)\n",
    "    for key, value in visited.items():\n",
    "        B_u[value].append(key)\n",
    "    return B_u\n",
    "\n",
    "def computeDiameter(LCC, Bu):\n",
    "    i = lb = max(Bu)\n",
    "    ub = 2*lb\n",
    "    while ub > lb:\n",
    "        eccDict = nx.eccentricity(LCC, Bu[i])\n",
    "        Bi = max(eccDict.values())\n",
    "        maxVal = max(Bi,lb)\n",
    "        if maxVal > 2*(i - 1):\n",
    "            return print(\"diametro: \", maxVal)\n",
    "        else: \n",
    "            lb = maxVal\n",
    "            ub = 2*(i - 1) \n",
    "        i = i - 1 \n",
    "    return print(\"Diametro iFub: \", lb)\n",
    "\n",
    "startNode = max(LCC.degree,key=lambda x: x[1])[0]\n",
    "B_u = customBFS(LCC, startNode)\n",
    "computeDiameter(LCC,B_u)"
   ],
   "id": "5a9e7adb1c0cc4df",
   "outputs": [
    {
     "name": "stdout",
     "output_type": "stream",
     "text": [
      "Diametro iFub:  8\n"
     ]
    }
   ],
   "execution_count": 9
  },
  {
   "metadata": {},
   "cell_type": "markdown",
   "source": "Ripetiamo il procedimento per il grafo in cui si escludono le pagine \"disambigua\".",
   "id": "3a40902c896b7558"
  },
  {
   "metadata": {
    "ExecuteTime": {
     "end_time": "2024-07-03T12:20:18.641874Z",
     "start_time": "2024-07-03T10:29:21.446712Z"
    }
   },
   "cell_type": "code",
   "source": [
    "def create_graph_without_disambigua(df:pd.DataFrame) -> nx.DiGraph:\n",
    "    G = nx.DiGraph()\n",
    "    \n",
    "    for index, line in df.iterrows():\n",
    "        v1 = int(line['v1'])\n",
    "        v2 = int(line['v2'])\n",
    "        \n",
    "        if \"disambigua\" not in id_to_page[v1] and \"disambigua\" not in id_to_page[v2]:\n",
    "            G.add_edge(v1,v2)\n",
    "    return G\n",
    "\n",
    "G_without_disambigua_prova = create_graph_without_disambigua(arcs_df_prova)\n",
    "\n",
    "LCC_dis = get_largest_cc_undirected(G_without_disambigua_prova)\n",
    "startNode_dis = max(LCC_dis.degree,key=lambda x: x[1])[0]\n",
    "B_u_dis = customBFS(LCC_dis, startNode_dis)\n",
    "computeDiameter(LCC_dis, B_u_dis)"
   ],
   "id": "3206a7612f3847",
   "outputs": [
    {
     "name": "stdout",
     "output_type": "stream",
     "text": [
      "Diametro iFub:  8\n"
     ]
    }
   ],
   "execution_count": 11
  },
  {
   "metadata": {},
   "cell_type": "markdown",
   "source": [
    "# Domanda 3: Trovare una clique massimale nel grafo indiretto U(g)\n",
    "Clique: sottografo completo (ogni nodo è connesso ad ogni altro). Clique massimale: aggiungendo un altro nodo smetterebbe di essere una clique. L'algoritmo di Bron-Kerbosch parte da un insieme vuoto R e da un insieme di candidati P. Aggiungendo un nodo di P a R, la lista dei candidati diventa l'intersezione tra i precedenti elementi di P e i vicini del nodo aggiunto. Continuiamo finchè P non diventa vuoto. In X finiscono i nodi già visitati che non fanno parte di una clique di ordine maggiore o uguale a 3. \n",
    "\n"
   ],
   "id": "1bcca1940d57bd78"
  },
  {
   "metadata": {
    "ExecuteTime": {
     "end_time": "2024-07-03T12:33:10.610269Z",
     "start_time": "2024-07-03T12:33:09.313719Z"
    }
   },
   "cell_type": "code",
   "source": [
    "U_g = nx.to_undirected(g_prova)\n",
    "\n",
    "def Bron_Kerbosch(G, R, P, X):\n",
    "    if not P and not X:\n",
    "        return R\n",
    "    for v in list(P):\n",
    "        myclique = Bron_Kerbosch(\n",
    "            G, \n",
    "            R.union({v}), \n",
    "            P.intersection(G.neighbors(v)),\n",
    "            X.intersection(G.neighbors(v))\n",
    "        )\n",
    "        if myclique and len(myclique) >= 3:\n",
    "            return myclique\n",
    "        P.remove(v)\n",
    "        X.add(v)\n",
    "    return None \n",
    "\n",
    "def find_a_maximal_clique(G:nx.Graph()):\n",
    "    nodes = list(G.nodes())\n",
    "    for i in range(len(nodes)):\n",
    "        start_node = choice(nodes)\n",
    "        R = {start_node}\n",
    "        P = set(G.neighbors(start_node))\n",
    "        X = set()\n",
    "        myclique = Bron_Kerbosch(G, R, P, X)\n",
    "        if myclique and len(myclique) >= 3:            \n",
    "            myclique_pages = set()\n",
    "            for id in myclique:\n",
    "                myclique_pages.add(id_to_page[id])\n",
    "            return print(\"Una clique massimale di ordine 3 o superiore è: \", myclique_pages)\n",
    "    return \"Nessuna clique di ordine 3 trovata\"\n",
    "    \n",
    "find_a_maximal_clique(U_g)"
   ],
   "id": "b27a1f3687137fc1",
   "outputs": [
    {
     "name": "stdout",
     "output_type": "stream",
     "text": [
      "Una clique massimale di ordine 3 o superiore è:  {'Anders Sandøe Ørsted', 'Danimarca', 'Primi ministri della Danimarca'}\n"
     ]
    }
   ],
   "execution_count": 16
  },
  {
   "metadata": {},
   "cell_type": "markdown",
   "source": [
    "## 3.1: Se volessi trovarne 2?\n",
    "Per trovare n clique massimali inserisco semplicemente una lista, in cui aggiunto tutte le clique che trovo. Devo aggiungere anche un controllo per verificare che la prossima clique non sia già stata inserita."
   ],
   "id": "2308cac6fa5ad4ff"
  },
  {
   "metadata": {
    "ExecuteTime": {
     "end_time": "2024-07-03T12:40:01.189316Z",
     "start_time": "2024-07-03T12:40:01.033800Z"
    }
   },
   "cell_type": "code",
   "source": [
    "def find_n_maximal_cliques(G, n): \n",
    "    nodes = list(G.nodes())\n",
    "    maximal_cliques = []\n",
    "    iter = 0\n",
    "    while len(maximal_cliques) < n:\n",
    "        iter += 1\n",
    "        start_node = choice(nodes)\n",
    "        R = {start_node}\n",
    "        P = set(G.neighbors(start_node))\n",
    "        X = set()\n",
    "        myclique = Bron_Kerbosch(G, R, P, X)\n",
    "        if myclique and len(myclique) >= 3 and myclique :\n",
    "            duplicate = False\n",
    "            for old_clique in maximal_cliques:\n",
    "                if myclique == old_clique:\n",
    "                    duplicate = True\n",
    "            if not duplicate:\n",
    "                maximal_cliques.append(myclique)\n",
    "                myclique_pages = set()\n",
    "                for id in myclique:\n",
    "                    myclique_pages.add(id_to_page[id])\n",
    "                print(\"Clique massimale \", iter, \": \", myclique_pages)\n",
    "    \n",
    "    return maximal_cliques\n",
    "\n",
    "find_n_maximal_cliques(U_g, 2)"
   ],
   "id": "37afe0bc8c65d7de",
   "outputs": [
    {
     "name": "stdout",
     "output_type": "stream",
     "text": [
      "Clique massimale  1 :  {'De Pontevès', 'Provenza-Alpi-Costa Azzurra', 'Pontevès'}\n",
      "Clique massimale  2 :  {'Sporting Clube de Portugal', 'Kwame Ayew', 'Boavista Futebol Clube', 'Primeira Liga 1999-2000'}\n"
     ]
    },
    {
     "data": {
      "text/plain": [
       "[{434904, 828673, 870283}, {703808, 703969, 704000, 704049}]"
      ]
     },
     "execution_count": 18,
     "metadata": {},
     "output_type": "execute_result"
    }
   ],
   "execution_count": 18
  }
 ],
 "metadata": {
  "kernelspec": {
   "display_name": "Python 3",
   "language": "python",
   "name": "python3"
  },
  "language_info": {
   "codemirror_mode": {
    "name": "ipython",
    "version": 2
   },
   "file_extension": ".py",
   "mimetype": "text/x-python",
   "name": "python",
   "nbconvert_exporter": "python",
   "pygments_lexer": "ipython2",
   "version": "2.7.6"
  }
 },
 "nbformat": 4,
 "nbformat_minor": 5
}
